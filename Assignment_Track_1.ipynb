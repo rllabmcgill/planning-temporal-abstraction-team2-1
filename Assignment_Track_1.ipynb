{
  "nbformat": 4,
  "nbformat_minor": 0,
  "metadata": {
    "colab": {
      "name": "Assignment - Track #1",
      "version": "0.3.2",
      "views": {},
      "default_view": {},
      "provenance": [],
      "collapsed_sections": []
    },
    "kernelspec": {
      "name": "python3",
      "display_name": "Python 3"
    }
  },
  "cells": [
    {
      "metadata": {
        "id": "l311B3me4kxF",
        "colab_type": "text"
      },
      "cell_type": "markdown",
      "source": [
        "# Assignment 3\n",
        "## Philip Paquette and Stephanie Larocque"
      ]
    },
    {
      "metadata": {
        "id": "6yXmMznDBbOe",
        "colab_type": "text"
      },
      "cell_type": "markdown",
      "source": [
        "Link to notebook : https://drive.google.com/file/d/1-GJcnoRJWqRqYt3ToMV3gRsKw_WLcCxv/view?usp=sharing"
      ]
    },
    {
      "metadata": {
        "id": "-OZDAUwbILg1",
        "colab_type": "code",
        "colab": {
          "autoexec": {
            "startup": false,
            "wait_interval": 0
          }
        }
      },
      "cell_type": "code",
      "source": [
        "! pip -q install gym\n",
        "! pip -q install git+https://github.com/deepmind/pycolab.git\n",
        "! pip -q install matplotlib\n",
        "! pip -q install numpy"
      ],
      "execution_count": 0,
      "outputs": []
    },
    {
      "metadata": {
        "id": "dPjZ-9AAxcYi",
        "colab_type": "code",
        "colab": {
          "autoexec": {
            "startup": false,
            "wait_interval": 0
          }
        }
      },
      "cell_type": "code",
      "source": [
        "from math import sqrt\n",
        "import random\n",
        "import gym\n",
        "import matplotlib.pyplot as plt\n",
        "\n",
        "random.seed(123)"
      ],
      "execution_count": 0,
      "outputs": []
    },
    {
      "metadata": {
        "id": "9vsSGcMfH0AE",
        "colab_type": "code",
        "colab": {
          "autoexec": {
            "startup": false,
            "wait_interval": 0
          }
        }
      },
      "cell_type": "code",
      "source": [
        "\"\"\" Implementation of the Blocking and Shortcut Maze \n",
        "    Source: Sutton and Barto - Reinforcement Learning: An Introduction, Chapter 8\n",
        "    \n",
        "    Goal: Reach the goal\n",
        "    Reward: +1 for touching the goal, +0 otherwise\n",
        "    Keys: up, down, left, right\n",
        "\"\"\"\n",
        "from collections import namedtuple\n",
        "import gym\n",
        "from gym.envs.registration import register\n",
        "import curses\n",
        "import numpy as np\n",
        "from pycolab import ascii_art\n",
        "from pycolab import human_ui\n",
        "from pycolab.prefab_parts import sprites as prefab_sprites\n",
        "\n",
        "BLOCKING_MAZE_LEVELS = [\n",
        "    # Legend: # --> Wall\n",
        "    #         G --> Goal\n",
        "    #         S --> Start\n",
        "\n",
        "    # Level 0 - Opening on right\n",
        "    [\n",
        "        '###########',\n",
        "        '#        G#',\n",
        "        '#         #',\n",
        "        '#         #',\n",
        "        '######### #',\n",
        "        '#         #',\n",
        "        '#   S     #',\n",
        "        '###########'\n",
        "    ],\n",
        "\n",
        "    # Level 1 - Opening on left\n",
        "    [\n",
        "        '###########',\n",
        "        '#        G#',\n",
        "        '#         #',\n",
        "        '#         #',\n",
        "        '# #########',\n",
        "        '#         #',\n",
        "        '#   S     #',\n",
        "        '###########'\n",
        "    ],\n",
        "]\n",
        "\n",
        "SHORTCUT_MAZE_LEVELS = [\n",
        "    # Legend: # --> Wall\n",
        "    #         G --> Goal\n",
        "    #         S --> Start\n",
        "\n",
        "    # Level 0 - Opening on left\n",
        "    [\n",
        "        '###########',\n",
        "        '#        G#',\n",
        "        '#         #',\n",
        "        '#         #',\n",
        "        '# #########',\n",
        "        '#         #',\n",
        "        '#   S     #',\n",
        "        '###########'\n",
        "    ],\n",
        "\n",
        "    # Level 1 - Opening on both sides\n",
        "    [\n",
        "        '###########',\n",
        "        '#        G#',\n",
        "        '#         #',\n",
        "        '#         #',\n",
        "        '# ####### #',\n",
        "        '#         #',\n",
        "        '#   S     #',\n",
        "        '###########'\n",
        "    ],\n",
        "]\n",
        "\n",
        "# Constants\n",
        "FG_COLOURS = {\n",
        "    '#': (700, 700, 700),  # Normal wall, bright grey.\n",
        "    'S': (999, 500, 0),    # Player wears an orange jumpsuit.\n",
        "    'G': (999, 0, 0),      # Goal\n",
        "    ' ': (200, 200, 200),  # Floor.\n",
        "}\n",
        "BG_COLOURS = {\n",
        "    '#': (800, 800, 800),\n",
        "    'S': (200, 200, 200),\n",
        "    'G': (999, 800, 800),\n",
        "    ' ': (200, 200, 200)\n",
        "}\n",
        "UP, DOWN, LEFT, RIGHT, QUIT = 0, 1, 2, 3, 9\n",
        "\n",
        "class Position(namedtuple('Position', ('x', 'y'))):\n",
        "    pass\n",
        "  \n",
        "class PlayerSprite(prefab_sprites.MazeWalker):\n",
        "    \"\"\" Handles basic movement and goal detection. \"\"\"\n",
        "\n",
        "    def __init__(self, corner, position, character):\n",
        "        super(PlayerSprite, self).__init__(corner, position, character, impassable='#')\n",
        "\n",
        "    def update(self, actions, board, layers, backdrop, things, the_plot):\n",
        "        del backdrop        # Unused\n",
        "\n",
        "        # Basic movements\n",
        "        if actions == UP:\n",
        "            self._north(board, the_plot)\n",
        "        elif actions == DOWN:\n",
        "            self._south(board, the_plot)\n",
        "        elif actions == LEFT:\n",
        "            self._west(board, the_plot)\n",
        "        elif actions == RIGHT:\n",
        "            self._east(board, the_plot)\n",
        "        elif actions == QUIT:\n",
        "            the_plot.terminate_episode()\n",
        "\n",
        "        # Did we reach the goal\n",
        "        if layers['G'][self.position]:\n",
        "            the_plot.add_reward(1)\n",
        "            the_plot.terminate_episode()\n",
        "\n",
        "def make_game(level_ix, levels):\n",
        "  return ascii_art.ascii_art_to_game(\n",
        "      art=levels[level_ix],\n",
        "      what_lies_beneath=' ',\n",
        "      sprites={'S': PlayerSprite},\n",
        "      update_schedule=[['S']],\n",
        "      z_order=['S'])\n",
        "\n",
        "class MazeEnv(gym.Env):\n",
        "    \"\"\" Gym environment wrapper for Maze. \"\"\"\n",
        "    metadata = {'render.modes': ['human']}\n",
        "\n",
        "    def __init__(self, step_to_switch, levels):\n",
        "        \"\"\" Constructor \"\"\"\n",
        "        self.game = None\n",
        "        self.nb_steps = 0\n",
        "        self.step_to_switch = step_to_switch\n",
        "        self.levels = levels\n",
        "\n",
        "    @property\n",
        "    def is_done(self):\n",
        "        \"\"\" Determines if the game is done \"\"\"\n",
        "        if not self.game:\n",
        "            return True\n",
        "        return self.game.game_over\n",
        "\n",
        "    def step(self, action):\n",
        "        \"\"\" Take a step in the environment \"\"\"\n",
        "        assert action in [UP, DOWN, LEFT, RIGHT], 'Valid actions are UP, DOWN, LEFT, RIGHT'\n",
        "        assert self.game is not None, 'You must call reset before step()'\n",
        "        self.nb_steps += 1\n",
        "\n",
        "        # Stepping in environment\n",
        "        obs, reward, _ = self.game.play(action)\n",
        "        done = self.is_done\n",
        "\n",
        "        # Extracting position\n",
        "        x, y = np.where(obs.layers['S'])\n",
        "        state = Position(int(y) - 1, 6 - int(x))\n",
        "\n",
        "        # Returning obs, rew, done, info\n",
        "        return state, reward or 0, done, {}\n",
        "\n",
        "    def reset(self):\n",
        "        \"\"\" Resets the game to its starting configuration, without resetting the step count \"\"\"\n",
        "        self.game = make_game(0, self.levels) if self.nb_steps < self.step_to_switch else make_game(1, self.levels)\n",
        "        obs, reward, _ = self.game.its_showtime()\n",
        "\n",
        "        # Extracting position\n",
        "        x, y = np.where(obs.layers['S'])\n",
        "        state = Position(int(y) - 1, 6 - int(x))\n",
        "\n",
        "        # Returning position\n",
        "        return state\n",
        "   \n",
        "class BlockingMazeEnv(MazeEnv):\n",
        "    def __init__(self):\n",
        "        super(BlockingMazeEnv, self).__init__(1000, BLOCKING_MAZE_LEVELS)\n",
        "\n",
        "class ShortcutMazeEnv(MazeEnv):\n",
        "    def __init__(self):\n",
        "        super(ShortcutMazeEnv, self).__init__(3000, SHORTCUT_MAZE_LEVELS)\n",
        "\n",
        "# Registering envs\n",
        "try:\n",
        "    register('BlockingMaze-v0', entry_point='__main__:BlockingMazeEnv')\n",
        "    register('ShortcutMaze-v0', entry_point='__main__:ShortcutMazeEnv')\n",
        "except gym.error.Error:\n",
        "    pass\n"
      ],
      "execution_count": 0,
      "outputs": []
    },
    {
      "metadata": {
        "id": "rELmGiVLJ9Oi",
        "colab_type": "code",
        "colab": {
          "autoexec": {
            "startup": false,
            "wait_interval": 0
          }
        }
      },
      "cell_type": "code",
      "source": [
        "# Constants\n",
        "MAX_X = 9\n",
        "MAX_Y = 6\n",
        "ACTIONS = [UP, DOWN, LEFT, RIGHT]\n",
        "\n",
        "# Dyna-Q+\n",
        "def dyna_qplus(env, max_steps, epsilon, nb_planning_steps, alpha, gamma, k, tau):\n",
        "    \"\"\" Performs Dyna-Q+ on an environment \"\"\"\n",
        "    observed_states = set([])\n",
        "    current_cum_reward = 0\n",
        "    cum_rewards = []\n",
        "    step_ix = 0\n",
        "    state = None\n",
        "\n",
        "    # Initialize Q(s,a) and Model(s,a) for all states, actions\n",
        "    q_table = {}\n",
        "    model_table = {}\n",
        "\n",
        "    for x in range(MAX_X):\n",
        "        for y in range(MAX_Y):\n",
        "            for action in ACTIONS:\n",
        "                q_table[(x, y, action)] = 0.\n",
        "                model_table[(x, y, action)] = (0., Position(x, y), 0)      # reward, next_state, last_step_tried\n",
        "\n",
        "    # Do forever\n",
        "    while step_ix <= max_steps:\n",
        "        step_ix += 1\n",
        "        if step_ix % 1000 == 0:\n",
        "            print('Current step: %d' % step_ix)\n",
        "\n",
        "        # S <- current (non-terminal) state\n",
        "        if env.is_done or not state:\n",
        "            state = env.reset()\n",
        "        observed_states.add(state)\n",
        "\n",
        "        # A <- Epsilon-greedy action\n",
        "        if random.random() <= epsilon:\n",
        "            selected_action = random.choice(ACTIONS)\n",
        "        else:\n",
        "            best_actions = []\n",
        "            selected_action, best_score = UP, float('-inf')\n",
        "            for action in ACTIONS:\n",
        "                score = q_table[(state.x, state.y, action)]\n",
        "                if score > best_score:\n",
        "                    best_score = score\n",
        "                    best_actions = [action]\n",
        "                elif score == best_score:\n",
        "                    best_actions += [action]\n",
        "            selected_action = random.choice(best_actions)\n",
        "\n",
        "        # Execute action A: observe reward R and next state S'\n",
        "        next_state, reward, _, _ = env.step(selected_action)\n",
        "\n",
        "        # -- Saving cumulative rewards for plotting\n",
        "        current_cum_reward += reward\n",
        "        cum_rewards += [current_cum_reward]\n",
        "\n",
        "        # Q(S,A) <- Q(S,A) + alpha * [R + gamma * max_a (Q(S', a) - Q(S,A)]\n",
        "        max_a = max([q_table[(next_state.x, next_state.y, action)] for action in ACTIONS])\n",
        "        q_s_a = q_table[(state.x, state.y, selected_action)]\n",
        "        q_table[(state.x, state.y, selected_action)] = q_s_a + alpha * (reward + gamma * max_a - q_s_a)\n",
        "\n",
        "        # Model(S,A) <- reward, next_state\n",
        "        model_table[(state.x, state.y, selected_action)] = (reward, next_state, step_ix)\n",
        "\n",
        "        # Repeat n times\n",
        "        for _ in range(nb_planning_steps):\n",
        "\n",
        "            # S <- Randomly previously observed state\n",
        "            planning_state = random.sample(observed_states, 1)[0]\n",
        "\n",
        "            # A <- Random action previously taken in S\n",
        "            # Dyna-Q+ also selection of action never tried.\n",
        "            planning_action = random.choice(ACTIONS)\n",
        "\n",
        "            # Reward, next_state <- Model(S, A)\n",
        "            planning_reward, planning_next_state, last_step_ix = model_table[(planning_state.x, planning_state.y, planning_action)]\n",
        "\n",
        "            # Bonus reward - Dyna-Q+\n",
        "            if step_ix - last_step_ix > tau:\n",
        "                planning_reward += k * sqrt(tau)\n",
        "\n",
        "            # Q(S,A) <- Q(S,A) + alpha * [R + gamma * max_a (Q(S', a) - Q(S,A)]\n",
        "            max_a = max([q_table[(planning_next_state.x, planning_next_state.y, action)] for action in ACTIONS])\n",
        "            q_s_a = q_table[(planning_state.x, planning_state.y, planning_action)]\n",
        "            q_table[(planning_state.x, planning_state.y, planning_action)] = \\\n",
        "                q_s_a + alpha * (planning_reward + gamma * max_a - q_s_a)\n",
        "\n",
        "        # Moving to next state\n",
        "        state = next_state\n",
        "\n",
        "    # Done training - Displaying cumulative reward graph\n",
        "    plt.plot(cum_rewards, label=\"Dyna-Q+\")\n",
        "    plt.legend()\n",
        "    plt.xlabel('Time step')\n",
        "    plt.ylabel('Cumulative Reward')\n",
        "    \n"
      ],
      "execution_count": 0,
      "outputs": []
    },
    {
      "metadata": {
        "id": "mV6TOjhrk54i",
        "colab_type": "code",
        "colab": {
          "autoexec": {
            "startup": false,
            "wait_interval": 0
          }
        }
      },
      "cell_type": "code",
      "source": [
        "# Dyna-Q\n",
        "def dyna_q(env, max_steps, epsilon, nb_planning_steps, alpha, gamma):\n",
        "    \"\"\" Performs Dyna-Q+ on an environment \"\"\"\n",
        "    observed_states = set([])\n",
        "    current_cum_reward = 0\n",
        "    cum_rewards = []\n",
        "    step_ix = 0\n",
        "    state = None\n",
        "\n",
        "    # Initialize Q(s,a) and Model(s,a) for all states, actions\n",
        "    q_table = {}\n",
        "    model_table = {}\n",
        "\n",
        "    for x in range(MAX_X):\n",
        "        for y in range(MAX_Y):\n",
        "            for action in ACTIONS:\n",
        "                q_table[(x, y, action)] = 0.\n",
        "                model_table[(x, y, action)] = (0., Position(x, y), 0)      # reward, next_state, last_step_tried\n",
        "\n",
        "    # Do forever\n",
        "    while step_ix <= max_steps:\n",
        "        step_ix += 1\n",
        "        if step_ix % 1000 == 0:\n",
        "            print('Current step: %d' % step_ix)\n",
        "\n",
        "        # S <- current (non-terminal) state\n",
        "        if env.is_done or not state:\n",
        "            state = env.reset()\n",
        "        observed_states.add(state)\n",
        "\n",
        "        # A <- Epsilon-greedy action\n",
        "        if random.random() <= epsilon:\n",
        "            selected_action = random.choice(ACTIONS)\n",
        "        else:\n",
        "            best_actions = []\n",
        "            selected_action, best_score = UP, float('-inf')\n",
        "            for action in ACTIONS:\n",
        "                score = q_table[(state.x, state.y, action)]\n",
        "                if score > best_score:\n",
        "                    best_score = score\n",
        "                    best_actions = [action]\n",
        "                elif score == best_score:\n",
        "                    best_actions += [action]\n",
        "            selected_action = random.choice(best_actions)\n",
        "\n",
        "        # Execute action A: observe reward R and next state S'\n",
        "        next_state, reward, _, _ = env.step(selected_action)\n",
        "\n",
        "        # -- Saving cumulative rewards for plotting\n",
        "        current_cum_reward += reward\n",
        "        cum_rewards += [current_cum_reward]\n",
        "\n",
        "        # Q(S,A) <- Q(S,A) + alpha * [R + gamma * max_a (Q(S', a) - Q(S,A)]\n",
        "        max_a = max([q_table[(next_state.x, next_state.y, action)] for action in ACTIONS])\n",
        "        q_s_a = q_table[(state.x, state.y, selected_action)]\n",
        "        q_table[(state.x, state.y, selected_action)] = q_s_a + alpha * (reward + gamma * max_a - q_s_a)\n",
        "\n",
        "        # Model(S,A) <- reward, next_state\n",
        "        model_table[(state.x, state.y, selected_action)] = (reward, next_state, step_ix)\n",
        "\n",
        "        # Repeat n times\n",
        "        for _ in range(nb_planning_steps):\n",
        "\n",
        "            # S <- Randomly previously observed state\n",
        "            planning_state = random.sample(observed_states, 1)[0]\n",
        "\n",
        "            # A <- Random action previously taken in S\n",
        "            actions_taken = [a for a in ACTIONS if model_table[(planning_state.x, planning_state.y, a)][2]!=0 ]\n",
        "            planning_action = random.choice(actions_taken)\n",
        "\n",
        "            # Reward, next_state <- Model(S, A)\n",
        "            planning_reward, planning_next_state, last_step_ix = model_table[(planning_state.x, planning_state.y, planning_action)]\n",
        "\n",
        "            # Q(S,A) <- Q(S,A) + alpha * [R + gamma * max_a (Q(S', a) - Q(S,A)]\n",
        "            max_a = max([q_table[(planning_next_state.x, planning_next_state.y, action)] for action in ACTIONS])\n",
        "            q_s_a = q_table[(planning_state.x, planning_state.y, planning_action)]\n",
        "            q_table[(planning_state.x, planning_state.y, planning_action)] = \\\n",
        "                q_s_a + alpha * (planning_reward + gamma * max_a - q_s_a)\n",
        "\n",
        "        # Moving to next state\n",
        "        state = next_state\n",
        "\n",
        "    # Done training - Displaying cumulative reward graph\n",
        "    plt.plot(cum_rewards, label=\"Dyna-Q\")\n",
        "    plt.legend()\n",
        "    plt.xlabel('Time step')\n",
        "    plt.ylabel('Cumulative Reward')\n",
        "    \n"
      ],
      "execution_count": 0,
      "outputs": []
    },
    {
      "metadata": {
        "id": "B6UT0sAwlGbV",
        "colab_type": "code",
        "colab": {
          "autoexec": {
            "startup": false,
            "wait_interval": 0
          },
          "output_extras": [
            {
              "item_id": 7
            },
            {
              "item_id": 8
            }
          ],
          "base_uri": "https://localhost:8080/",
          "height": 511
        },
        "outputId": "8c852fc8-f3ae-4534-f665-f1d1643945a3",
        "executionInfo": {
          "status": "ok",
          "timestamp": 1519059943575,
          "user_tz": 300,
          "elapsed": 5054,
          "user": {
            "displayName": "Stephanie Larocque",
            "photoUrl": "https://lh3.googleusercontent.com/a/default-user=s128",
            "userId": "115945799390990412097"
          }
        }
      },
      "cell_type": "code",
      "source": [
        "plt.title(\"Blocking Maze\")\n",
        "# ------------------------------------------------\n",
        "# Blocking Maze Dyna-Q\n",
        "# ------------------------------------------------\n",
        "print(\"------- Dyna-Q ---------\")\n",
        "dyna_q(gym.make('BlockingMaze-v0'),\n",
        "     max_steps=3000,\n",
        "     epsilon=0.05,\n",
        "     nb_planning_steps=50,\n",
        "     alpha=0.15,\n",
        "     gamma=0.5)\n",
        "\n",
        "# ------------------------------------------------\n",
        "# Blocking Maze Dyna-Q+\n",
        "# ------------------------------------------------\n",
        "print(\"------- Dyna-Q+ ---------\")\n",
        "dyna_qplus(gym.make('BlockingMaze-v0'),\n",
        "     max_steps=3000,\n",
        "     epsilon=0.05,\n",
        "     nb_planning_steps=50,\n",
        "     alpha=0.15,\n",
        "     gamma=0.5,\n",
        "     k=5e-8,\n",
        "     tau=300)\n",
        "\n",
        "\n",
        "\n"
      ],
      "execution_count": 15,
      "outputs": [
        {
          "output_type": "stream",
          "text": [
            "------- Dyna-Q ---------\n",
            "Current step: 1000\n",
            "Current step: 2000\n",
            "Current step: 3000\n",
            "------- Dyna-Q+ ---------\n",
            "Current step: 1000\n",
            "Current step: 2000\n",
            "Current step: 3000\n"
          ],
          "name": "stdout"
        },
        {
          "output_type": "display_data",
          "data": {
            "image/png": "[encoded data removed]",
            "text/plain": [
              "<matplotlib.figure.Figure at 0x7fc26d2014e0>"
            ]
          },
          "metadata": {
            "tags": []
          }
        }
      ]
    },
    {
      "metadata": {
        "id": "6b9C2R7Wm50A",
        "colab_type": "code",
        "colab": {
          "autoexec": {
            "startup": false,
            "wait_interval": 0
          },
          "output_extras": [
            {
              "item_id": 6
            },
            {
              "item_id": 7
            }
          ],
          "base_uri": "https://localhost:8080/",
          "height": 611
        },
        "outputId": "1f319f86-ad53-47b9-c2b2-63bda5633262",
        "executionInfo": {
          "status": "ok",
          "timestamp": 1519059952737,
          "user_tz": 300,
          "elapsed": 9123,
          "user": {
            "displayName": "Stephanie Larocque",
            "photoUrl": "https://lh3.googleusercontent.com/a/default-user=s128",
            "userId": "115945799390990412097"
          }
        }
      },
      "cell_type": "code",
      "source": [
        "plt.title(\"Shortcut Maze\")\n",
        "# ------------------------------------------------\n",
        "# Shortcut Maze Dyna-Q\n",
        "# ------------------------------------------------\n",
        "print(\"------- Dyna-Q ---------\")\n",
        "\n",
        "dyna_q(gym.make('ShortcutMaze-v0'),\n",
        "     max_steps=6000,\n",
        "     epsilon=0.1,\n",
        "     nb_planning_steps=50,\n",
        "     alpha=0.1,\n",
        "     gamma=0.45)\n",
        "\n",
        "\n",
        "# ------------------------------------------------\n",
        "# Shortcut Maze Dyna-Q+\n",
        "# ------------------------------------------------\n",
        "print(\"------- Dyna-Q+ ---------\")\n",
        "\n",
        "dyna_qplus(gym.make('ShortcutMaze-v0'),\n",
        "     max_steps=6000,\n",
        "     epsilon=0.1,\n",
        "     nb_planning_steps=50,\n",
        "     alpha=0.1,\n",
        "     gamma=0.45,\n",
        "     k=5e-7,\n",
        "     tau=300)"
      ],
      "execution_count": 16,
      "outputs": [
        {
          "output_type": "stream",
          "text": [
            "------- Dyna-Q ---------\n",
            "Current step: 1000\n",
            "Current step: 2000\n",
            "Current step: 3000\n",
            "Current step: 4000\n",
            "Current step: 5000\n",
            "Current step: 6000\n",
            "------- Dyna-Q+ ---------\n",
            "Current step: 1000\n",
            "Current step: 2000\n",
            "Current step: 3000\n",
            "Current step: 4000\n",
            "Current step: 5000\n",
            "Current step: 6000\n"
          ],
          "name": "stdout"
        },
        {
          "output_type": "display_data",
          "data": {
            "image/png": "[encoded data removed]",
            "text/plain": [
              "<matplotlib.figure.Figure at 0x7fc26d183978>"
            ]
          },
          "metadata": {
            "tags": []
          }
        }
      ]
    },
    {
      "metadata": {
        "id": "FpZQjr2nxrKk",
        "colab_type": "code",
        "colab": {
          "autoexec": {
            "startup": false,
            "wait_interval": 0
          }
        }
      },
      "cell_type": "code",
      "source": [
        ""
      ],
      "execution_count": 0,
      "outputs": []
    },
    {
      "metadata": {
        "id": "E9c6BsxP5A70",
        "colab_type": "text"
      },
      "cell_type": "markdown",
      "source": [
        "##  How is the above deterministic model update in Dyna-Q related to experience replay ? \n",
        "\n",
        "In experience replay, we re-use the same experiences previously generated to leverage all the available information. In Dyna-Q, at each model update, we randomly sample $n$ previous (state, action) pair to update the action-value function. We thus re-use some of the transitions that we have done to have a more accurate value function, according to our model. In both cases, we use all the available information multiple times to have a more efficient algorithm."
      ]
    }
  ]
}
